{
  "nbformat": 4,
  "nbformat_minor": 0,
  "metadata": {
    "colab": {
      "provenance": []
    },
    "kernelspec": {
      "name": "python3",
      "display_name": "Python 3"
    },
    "language_info": {
      "name": "python"
    }
  },
  "cells": [
    {
      "cell_type": "code",
      "execution_count": null,
      "metadata": {
        "id": "iX0WAnkEHRvb"
      },
      "outputs": [],
      "source": [
        "# Making another list again, same as chapter 2\n",
        "players = [{\n",
        "   'name': 'Cooper Kupp',\n",
        "   'catches': 145,\n",
        "   'targets': 191\n",
        "   },\n",
        "   {\n",
        "   'name': 'Deebo Samuel',\n",
        "   'catches': 77,\n",
        "   'targets': 121\n",
        "   },\n",
        "   {\n",
        "   'name': 'Justin Jefferson',\n",
        "   'catches': 108,\n",
        "   'targets': 167\n",
        "   },\n",
        "]\n",
        "\n",
        "# defining a function that takes in a value not really sure how this works to be honest, i think i need to review functions and get\n",
        "# a better understanding of this shit. This function is defining get_catch_rate, taking the value of player. We are just defining the function here, and in the next code block we are actually creating the player list for all\n",
        "# each of these variables to actually work.\n",
        "def get_catch_rate(player):\n",
        "    if type(player) is not dict: # if statement, type is the value of a variable, in this case the value is making sure player is not a dictionary object, passing it through\n",
        "    # the loop if the type is dictionary\n",
        "        print('You need to pass in a dictionary!')\n",
        "        return\n",
        "    else:\n",
        "        pass\n",
        "  # setting catches and targets to the player value from the list\n",
        "    catches = player['catches']\n",
        "    targets = player['targets']\n",
        "  # if statement, standard just if catches > targets basically catching it to make sure it cannot run through the if statement\n",
        "    if catches > targets:\n",
        "        print('You can not have more catches than targets')\n",
        "        return\n",
        "\n",
        "\n",
        "\n",
        "# for player in players:\n",
        "#   name = player[\"name\"]\n",
        "#   catches = player[\"catches\"]\n",
        "#   targets = player[\"targets\"]\n",
        "#   catch_rate = catches/targets\n",
        "#   print(name + ' has a catch rate of ' + str(catch_rate))\n",
        "\n",
        "\n"
      ]
    },
    {
      "cell_type": "code",
      "source": [
        "player = {\n",
        "    'name': 'Julio Jones',\n",
        "    'catches': 99 ,\n",
        "    'targets': 150\n",
        "}\n",
        "\n",
        "get_catch_rate(player)"
      ],
      "metadata": {
        "id": "Wiovb6j354xP"
      },
      "execution_count": null,
      "outputs": []
    },
    {
      "cell_type": "code",
      "source": [
        "for player in players: # for loop using the player variable we made above, in the list players. name is referencing the player[\"name\"] part of the list. same for all the other variables.\n",
        "  name = player[\"name\"]\n",
        "  catches = player[\"catches\"]\n",
        "  targets = player[\"targets\"]\n",
        "  # variable assigned to\n",
        "  catch_rate = catches/targets\n",
        "  print(name + ' has a catch rate of ' + str(catch_rate))\n"
      ],
      "metadata": {
        "colab": {
          "base_uri": "https://localhost:8080/"
        },
        "id": "ZHWNTbrxyC7M",
        "outputId": "28c39da7-05ad-41fd-d430-988fd6269d38"
      },
      "execution_count": null,
      "outputs": [
        {
          "output_type": "stream",
          "name": "stdout",
          "text": [
            "Cooper Kupp has a catch rate of 0.7591623036649214\n",
            "Deebo Samuel has a catch rate of 0.6363636363636364\n",
            "Justin Jefferson has a catch rate of 0.6467065868263473\n"
          ]
        }
      ]
    }
  ]
}