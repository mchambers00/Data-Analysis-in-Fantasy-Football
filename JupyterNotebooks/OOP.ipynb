{
  "nbformat": 4,
  "nbformat_minor": 0,
  "metadata": {
    "colab": {
      "provenance": []
    },
    "kernelspec": {
      "name": "python3",
      "display_name": "Python 3"
    },
    "language_info": {
      "name": "python"
    }
  },
  "cells": [
    {
      "cell_type": "code",
      "execution_count": null,
      "metadata": {
        "colab": {
          "base_uri": "https://localhost:8080/"
        },
        "id": "QgJ2IB3o-c_X",
        "outputId": "ad44271d-20b4-4224-b9b2-6a79aa0745e3"
      },
      "outputs": [
        {
          "output_type": "stream",
          "name": "stdout",
          "text": [
            "MT rushing Attempts\n",
            "MT Rushing Yds\n"
          ]
        },
        {
          "output_type": "execute_result",
          "data": {
            "text/plain": [
              "(None, 3, None, 4)"
            ]
          },
          "metadata": {},
          "execution_count": 4
        }
      ],
      "source": [
        "#classes are used to assign attributes allows you to access those values\n",
        "# basically it will assign it to all players in this class\n",
        "# can't use julio.catch_rate as it wont return anything, need to use julio.catch_rate()\n",
        "# self allows u to use call a method using dot notation, since self basically is just a placeholder for things like that. Basically when you use self.name, it calls the objects name thats made in the function used.\n",
        "# it makes more sense when you actually use it and see it in action, this description is not really that good but it makes sense in my own words.\n",
        "# in this instance we  create a class named player, and the attributes that we are applying to the objects made in this class are name, pos, catches, targets, rushing_attempts, rushing_yds\n",
        "#\n",
        "class Player: # Defining a class\n",
        "\n",
        "  def __init__(self, name, pos, catches, targets, rushing_attempts, rushing_yds): # defining a function with all of these attributes init stands for initalize and we are intializing the function here\n",
        "  # using self to call each of the attributes that we made earlier in the above line\n",
        "  # setting those attributes to variables\n",
        "  # this initialization allows us to to create the functions below using the attributes above\n",
        "    self.name = name\n",
        "    self.pos = pos\n",
        "    self.catches = catches\n",
        "    self.targets = targets\n",
        "    self.rushing_attempts = rushing_attempts\n",
        "    self.rushing_yds = rushing_yds\n",
        "  # defining a function catch_rate that has the attribute self. This attribute allows it to use all theother attributes above by using self.____\n",
        "  def catch_rate(self):\n",
        "    return self.catches/self.targets\n",
        "  # defining a function yards_per_carry that has the attribute self. This attribute allows it to use all theother attributes above by using self.____\n",
        "  def yards_per_carry(self):\n",
        "    return self.rushing_yds/self.rushing_attempts\n",
        "  # defining a function effiency that has the attribute self. This attribute allows it to use all theother attributes above by using self.____\n",
        "  # this function takes in the two functions above, and returns the output of them\n",
        "  def efficiency(self):\n",
        "    return{\n",
        "      'yds_per_carry' : self.yards_per_carry(),\n",
        "      'catch_rate' : self.catch_rate()\n",
        "    }\n",
        "\n",
        "julio = Player('Julio Jones', 'WR', 99, 124, 2, -3)\n",
        "mt = Player('Michael Thomas', 'WR', 140, 160, 3, 4)\n",
        "\n",
        "# each of these showing how we can call the function and use it to find the statistics of MT and JJ. Just a few example of calling the function\n",
        "# When the variable is given values, we can just call it using the variablename + .name for example, we do not need to use parenthesis and this actually will cause an error\n",
        "julio.name\n",
        "julio.pos\n",
        "julio.catch_rate()\n",
        "julio.yards_per_carry()\n",
        "mt.name\n",
        "print(\"MT rushing Attempts\" + mt.rushing_attempts), mt.rushing_attempts, print(\"MT Rushing Yds\"), mt.rushing_yds"
      ]
    },
    {
      "cell_type": "markdown",
      "source": [],
      "metadata": {
        "id": "ylJVpwb2bEq_"
      }
    }
  ]
}
