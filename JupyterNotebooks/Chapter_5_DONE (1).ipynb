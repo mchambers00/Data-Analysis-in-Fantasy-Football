{
  "nbformat": 4,
  "nbformat_minor": 0,
  "metadata": {
    "colab": {
      "provenance": []
    },
    "kernelspec": {
      "name": "python3",
      "display_name": "Python 3"
    },
    "language_info": {
      "name": "python"
    }
  },
  "cells": [
    {
      "cell_type": "code",
      "execution_count": null,
      "metadata": {
        "colab": {
          "base_uri": "https://localhost:8080/"
        },
        "id": "m54pa3W5zLZo",
        "outputId": "8f93fac2-8384-404e-93cc-0ce17b3b97b9"
      },
      "outputs": [
        {
          "output_type": "stream",
          "name": "stdout",
          "text": [
            "name : Deandre Hopkins\n",
            "catches : 120\n",
            "yds : 1230\n",
            "td : 13\n"
          ]
        },
        {
          "output_type": "execute_result",
          "data": {
            "text/plain": [
              "[5.0, 7.5, 17.0, 11.5]"
            ]
          },
          "metadata": {},
          "execution_count": 1
        }
      ],
      "source": [
        "# use .split() at end of dictionary to not need to 'ga' 'ga' 'ga' and can just ga ga ga .join() is the opposite'\n",
        "# Created a dictionary, added 2 dictionary objects JJ and DH\n",
        "players = [{\n",
        "    'name': 'Julio Jones',\n",
        "    'catches': 100,\n",
        "    'yds' : 1000,\n",
        "    'td' : 12\n",
        "}, {\n",
        "    'name' : 'Deandre Hopkins',\n",
        "    'catches' : 120,\n",
        "    'yds' : 1230,\n",
        "    'td' : 13\n",
        "}]\n",
        "\n",
        "# this is the same as below just cleaner and modualized, we define a function\n",
        "# def_calc_fantasy_points(player):\n",
        "#   return player.get('catches', 0) + player.get('yds', 0) * 0.1 + player.get('td, 0) * 6\n",
        "\n",
        "#fantasy_points = [calc_fantasy_points(player) for player in players]\n",
        "# sum(fantasy_points) / len(fantasy_points)\n",
        "fantasy_points = [] # setting fantasy_points to an empty list\n",
        "for player in players: # referencing the players dictionary from above using player\n",
        "  points_scored = player.get('catches', 0) + player.get('yds', 0) * 0.1 + player.get('td', 0) * 6\n",
        "  fantasy_points.append(points_scored)\n",
        "\n",
        "sum(fantasy_points)/len(fantasy_points)\n",
        "for k, v in player.items():\n",
        "  print(k,\":\",v)\n",
        "# # our_list = [i for i in range(0, 10)] is the same exact code as below, but way cleaner called a list comprehension or list(range(0,10))\n",
        "# our_list = []\n",
        "# for i in range(0,10):\n",
        "#   our_list.append(i)\n",
        "\n",
        "# our_list\n",
        "\n",
        "catches = [10, 15, 34, 23]\n",
        "\n",
        "def divide_by_two(x):\n",
        "  return x/2\n",
        "\n",
        "# lambda lets you define a function in one line the line half_ppr_values = map(lambda x: x/2, catches) is equivalent to the function above but cleaner\n",
        "# basically what map does is apply in this case divide_by_two to the list and maps over it\n",
        "half_ppr_values = map(lambda x: x/2, catches)\n",
        "half_ppr_values = list(half_ppr_values)\n",
        "\n",
        "half_ppr_values\n",
        "\n",
        "\n"
      ]
    },
    {
      "cell_type": "code",
      "source": [
        "for player in players: # referencing the players dictionary from above using player\n",
        "  points_scored = player.get('catches', 0) + player.get('yds', 0) * 0.1 + player.get('td', 0) * 6\n",
        "  fantasy_points.append(points_scored)\n",
        "fantasy_points"
      ],
      "metadata": {
        "id": "N9SNig9D3Zbc",
        "colab": {
          "base_uri": "https://localhost:8080/"
        },
        "outputId": "00eca2e9-d220-46df-9bc9-5ec08c97fde0"
      },
      "execution_count": null,
      "outputs": [
        {
          "output_type": "execute_result",
          "data": {
            "text/plain": [
              "[272.0,\n",
              " 321.0,\n",
              " 272.0,\n",
              " 321.0,\n",
              " 272.0,\n",
              " 321.0,\n",
              " 272.0,\n",
              " 321.0,\n",
              " 272.0,\n",
              " 321.0,\n",
              " 272.0,\n",
              " 321.0,\n",
              " 272.0,\n",
              " 321.0,\n",
              " 272.0,\n",
              " 321.0,\n",
              " 272.0,\n",
              " 321.0]"
            ]
          },
          "metadata": {},
          "execution_count": 16
        }
      ]
    },
    {
      "cell_type": "code",
      "source": [
        "for k, v in player.items():\n",
        "  print(k,\":\",v)"
      ],
      "metadata": {
        "colab": {
          "base_uri": "https://localhost:8080/"
        },
        "id": "wAMmJBGAnjJs",
        "outputId": "b3f90616-4130-467a-920b-f13851bd7334"
      },
      "execution_count": null,
      "outputs": [
        {
          "output_type": "stream",
          "name": "stdout",
          "text": [
            "name : Deandre Hopkins\n",
            "catches : 120\n",
            "yds : 1230\n",
            "td : 13\n"
          ]
        }
      ]
    },
    {
      "cell_type": "code",
      "source": [
        "# our_list = [i for i in range(0, 10)] is the same exact code as below, but way cleaner called a list comprehension or list(range(0,10))\n",
        "our_list = []\n",
        "for i in range(0,10):\n",
        "  # append is adding to a list, in this case we are adding the numbers 0,10\n",
        "     our_list.append(i)\n",
        "\n",
        "our_list"
      ],
      "metadata": {
        "colab": {
          "base_uri": "https://localhost:8080/"
        },
        "id": "G2SKIt8ZoGWV",
        "outputId": "6afb269e-ab7d-47e0-b5bb-3b8c72df53bf"
      },
      "execution_count": null,
      "outputs": [
        {
          "output_type": "execute_result",
          "data": {
            "text/plain": [
              "[0, 1, 2, 3, 4, 5, 6, 7, 8, 9]"
            ]
          },
          "metadata": {},
          "execution_count": 10
        }
      ]
    }
  ]
}